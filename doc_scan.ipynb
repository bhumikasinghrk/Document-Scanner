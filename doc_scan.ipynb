{
 "cells": [
  {
   "cell_type": "code",
   "execution_count": 1,
   "metadata": {},
   "outputs": [],
   "source": [
    "import numpy as np \n",
    "import cv2\n",
    "import imutils"
   ]
  },
  {
   "cell_type": "code",
   "execution_count": 2,
   "metadata": {},
   "outputs": [],
   "source": [
    "img = cv2.imread(\"images\\IMG_20190403_152526405.jpg\",1)\n",
    "\n",
    "#resize image\n",
    "img = cv2.resize(img,(600,800))"
   ]
  },
  {
   "cell_type": "code",
   "execution_count": 3,
   "metadata": {},
   "outputs": [],
   "source": [
    "#convert image to grayscale\n",
    "grey = cv2.cvtColor(img, cv2.COLOR_BGR2GRAY)\n",
    "\n",
    "#blurr image to smooth \n",
    "blurr = cv2.GaussianBlur(grey, (5,5),0)\n",
    "\n",
    "#finding edges \n",
    "edge = cv2.Canny(blurr, 0, 50)   "
   ]
  },
  {
   "cell_type": "code",
   "execution_count": 4,
   "metadata": {},
   "outputs": [],
   "source": [
    "#find contours in thresholded image and sort them according to decreasing area\n",
    "contours = cv2.findContours(edge, cv2.RETR_LIST, cv2.CHAIN_APPROX_SIMPLE)\n",
    "contours=imutils.grab_contours(contours)\n",
    "contours = sorted(contours, key=cv2.contourArea, reverse= True)\n",
    "\n",
    "#contour approximation \n",
    "for i in contours:\n",
    "    elip =  cv2.arcLength(i, True)\n",
    "    approx = cv2.approxPolyDP(i,0.08*elip, True)\n",
    "\n",
    "    if len(approx) == 4 : \n",
    "        doc = approx \n",
    "        break"
   ]
  },
  {
   "cell_type": "code",
   "execution_count": 5,
   "metadata": {},
   "outputs": [],
   "source": [
    "\n",
    "#draw contours \n",
    "cv2.drawContours(img, [doc], -1, (0, 255, 0), 2)\n",
    "\n",
    "#reshape to avoid errors ahead\n",
    "doc=doc.reshape((4,2))\n",
    "\n",
    "#create a new array and initialize \n",
    "new_doc = np.zeros((4,2), dtype=\"float32\")"
   ]
  },
  {
   "cell_type": "code",
   "execution_count": 6,
   "metadata": {},
   "outputs": [],
   "source": [
    "Sum = doc.sum(axis = 1)\n",
    "new_doc[0] = doc[np.argmin(Sum)]\n",
    "new_doc[2] = doc[np.argmax(Sum)]\n",
    "\n",
    "Diff = np.diff(doc, axis=1)\n",
    "new_doc[1] = doc[np.argmin(Diff)]\n",
    "new_doc[3] = doc[np.argmax(Diff)]"
   ]
  },
  {
   "cell_type": "code",
   "execution_count": 7,
   "metadata": {},
   "outputs": [],
   "source": [
    "(tl,tr,br,bl) = new_doc\n",
    "\n",
    "#find distance between points and get max \n",
    "dist1 = np.linalg.norm(br-bl)\n",
    "dist2 = np.linalg.norm(tr-tl)"
   ]
  },
  {
   "cell_type": "code",
   "execution_count": 8,
   "metadata": {},
   "outputs": [],
   "source": [
    "maxLen = max(int(dist1),int(dist2))\n",
    "\n",
    "dist3 = np.linalg.norm(tr-br)\n",
    "dist4 = np.linalg.norm(tl-bl)\n",
    "\n",
    "maxHeight = max(int(dist3), int(dist4))\n",
    "\n",
    "dst = np.array([[0,0],[maxLen-1, 0],[maxLen-1, maxHeight-1], [0, maxHeight-1]], dtype=\"float32\")\n"
   ]
  },
  {
   "cell_type": "code",
   "execution_count": 9,
   "metadata": {},
   "outputs": [],
   "source": [
    "N = cv2.getPerspectiveTransform(new_doc, dst)\n",
    "warp = cv2.warpPerspective(img, N, (maxLen, maxHeight))\n",
    "\n",
    "img2 = cv2.cvtColor(warp, cv2.COLOR_BGR2GRAY)\n",
    "img2 = cv2.resize(img2,(600,800))"
   ]
  },
  {
   "cell_type": "code",
   "execution_count": 10,
   "metadata": {},
   "outputs": [],
   "source": [
    "# show all images \n",
    "cv2.imshow(\"Original.jpg\",img)\n",
    "cv2.imshow(\"Grey.jpg\",grey)\n",
    "cv2.imshow(\"Gaussian_Blur.jpb\",blurr)\n",
    "cv2.imshow(\"Canny_Edge.jpg\",edge)\n",
    "cv2.imshow(\"Contours.jpg\", img)\n",
    "cv2.imshow(\"Scanned.jpg\", img2)\n",
    "\n",
    "cv2.waitKey(0)\n",
    "cv2.destroyAllWindows()"
   ]
  },
  {
   "cell_type": "code",
   "execution_count": null,
   "metadata": {},
   "outputs": [],
   "source": []
  }
 ],
 "metadata": {
  "kernelspec": {
   "display_name": "Python 3",
   "language": "python",
   "name": "python3"
  },
  "language_info": {
   "codemirror_mode": {
    "name": "ipython",
    "version": 3
   },
   "file_extension": ".py",
   "mimetype": "text/x-python",
   "name": "python",
   "nbconvert_exporter": "python",
   "pygments_lexer": "ipython3",
   "version": "3.6.5"
  }
 },
 "nbformat": 4,
 "nbformat_minor": 2
}
